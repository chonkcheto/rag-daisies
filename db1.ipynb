{
 "cells": [
  {
   "cell_type": "markdown",
   "id": "34ff1594",
   "metadata": {},
   "source": [
    "goal: get Tiara's resumes and CVs and turn them into embeddings. as a first pass, use the embedding model referenced in the LlamaIndex starter tutorial."
   ]
  },
  {
   "cell_type": "code",
   "execution_count": 3,
   "id": "7f6e7798",
   "metadata": {
    "tags": []
   },
   "outputs": [],
   "source": [
    "import logging\n",
    "import sys\n",
    "\n",
    "logging.basicConfig(stream=sys.stdout, level=logging.ERROR)\n",
    "logging.getLogger().addHandler(logging.StreamHandler(stream=sys.stdout))"
   ]
  },
  {
   "cell_type": "code",
   "execution_count": 5,
   "id": "5ab243f1",
   "metadata": {
    "tags": []
   },
   "outputs": [],
   "source": [
    "from llama_index.core import VectorStoreIndex, SimpleDirectoryReader, Settings\n",
    "from llama_index.embeddings.huggingface import HuggingFaceEmbedding"
   ]
  },
  {
   "cell_type": "code",
   "execution_count": 7,
   "id": "c12bdfb0",
   "metadata": {
    "tags": []
   },
   "outputs": [],
   "source": [
    "from llama_index.llms.ollama import Ollama"
   ]
  },
  {
   "cell_type": "code",
   "execution_count": 9,
   "id": "23a5846a",
   "metadata": {
    "tags": []
   },
   "outputs": [],
   "source": [
    "# load documents\n",
    "\n",
    "documents = SimpleDirectoryReader(\"data_tiara\").load_data()"
   ]
  },
  {
   "cell_type": "code",
   "execution_count": 11,
   "id": "2098baae",
   "metadata": {
    "tags": []
   },
   "outputs": [],
   "source": [
    "# set embedding model\n",
    "# according to LangChain, \"BGE models on the HuggingFace are the best open-source embedding models.\"\n",
    "\n",
    "Settings.embed_model = HuggingFaceEmbedding(model_name=\"BAAI/bge-large-en-v1.5\")"
   ]
  },
  {
   "cell_type": "code",
   "execution_count": 13,
   "id": "6d8f8fdc",
   "metadata": {
    "tags": []
   },
   "outputs": [],
   "source": [
    "# ollama to set model to llama3.1 8b\n",
    "\n",
    "Settings.llm = Ollama(model=\"llama3.1:8b-instruct-q4_0\", request_timeout=360.0)"
   ]
  },
  {
   "cell_type": "code",
   "execution_count": 15,
   "id": "66018ba4",
   "metadata": {
    "tags": []
   },
   "outputs": [
    {
     "name": "stdout",
     "output_type": "stream",
     "text": [
      "1024 200\n"
     ]
    }
   ],
   "source": [
    "print(Settings.chunk_size, Settings.chunk_overlap)"
   ]
  },
  {
   "cell_type": "code",
   "execution_count": 17,
   "id": "a74c7ead-1807-48a4-a679-d6907b502102",
   "metadata": {
    "tags": []
   },
   "outputs": [],
   "source": [
    "Settings.chunk_size = 256\n",
    "Settings.chunk_overlap = 50"
   ]
  },
  {
   "cell_type": "code",
   "execution_count": 19,
   "id": "a0fb89f8",
   "metadata": {
    "tags": []
   },
   "outputs": [],
   "source": [
    "# make vector database for document \n",
    "\n",
    "index_tiara = VectorStoreIndex.from_documents(\n",
    "    documents,\n",
    ")"
   ]
  },
  {
   "cell_type": "code",
   "execution_count": 21,
   "id": "59d1626b",
   "metadata": {
    "tags": []
   },
   "outputs": [
    {
     "name": "stdout",
     "output_type": "stream",
     "text": [
      "Pathobiology and Molecular Medicine.\n"
     ]
    }
   ],
   "source": [
    "# use vector database as reference\n",
    "\n",
    "query_engine = index_tiara.as_query_engine()\n",
    "response = query_engine.query(\"What did Tiara study?\")\n",
    "print(response)"
   ]
  },
  {
   "cell_type": "code",
   "execution_count": 23,
   "id": "75986ff5",
   "metadata": {
    "tags": []
   },
   "outputs": [
    {
     "name": "stdout",
     "output_type": "stream",
     "text": [
      "Michigan State University.\n"
     ]
    }
   ],
   "source": [
    "response = query_engine.query(\"Where did Tiara go for undergrad?\")\n",
    "print(response)"
   ]
  },
  {
   "cell_type": "code",
   "execution_count": 14,
   "id": "418b087b",
   "metadata": {},
   "outputs": [
    {
     "data": {
      "text/plain": [
       "'None'"
      ]
     },
     "execution_count": 14,
     "metadata": {},
     "output_type": "execute_result"
    }
   ],
   "source": [
    "# "
   ]
  }
 ],
 "metadata": {
  "kernelspec": {
   "display_name": "Python 3 (ipykernel)",
   "language": "python",
   "name": "python3"
  },
  "language_info": {
   "codemirror_mode": {
    "name": "ipython",
    "version": 3
   },
   "file_extension": ".py",
   "mimetype": "text/x-python",
   "name": "python",
   "nbconvert_exporter": "python",
   "pygments_lexer": "ipython3",
   "version": "3.11.9"
  }
 },
 "nbformat": 4,
 "nbformat_minor": 5
}
