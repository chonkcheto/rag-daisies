{
 "cells": [
  {
   "cell_type": "code",
   "execution_count": 3,
   "id": "7f6e7798",
   "metadata": {
    "tags": []
   },
   "outputs": [],
   "source": [
    "import logging\n",
    "import sys\n",
    "\n",
    "logging.basicConfig(stream=sys.stdout, level=logging.ERROR)\n",
    "logging.getLogger().addHandler(logging.StreamHandler(stream=sys.stdout))"
   ]
  },
  {
   "cell_type": "markdown",
   "id": "34ff1594",
   "metadata": {
    "tags": []
   },
   "source": [
    "### Part 1: Make two knowledge bases. \n",
    "\n",
    "One specific to Tiara's skills and qualifications (resume and CV). One specific to roles that are good matches (job descriptions).\n",
    "\n",
    "Large language model: Llama 3.1 8b\n",
    "Embedding model: BAAI/bge-large-en-v1.5"
   ]
  },
  {
   "cell_type": "code",
   "execution_count": 5,
   "id": "5ab243f1",
   "metadata": {
    "tags": []
   },
   "outputs": [],
   "source": [
    "from llama_index.core import VectorStoreIndex, SimpleDirectoryReader, Settings\n",
    "from llama_index.embeddings.huggingface import HuggingFaceEmbedding"
   ]
  },
  {
   "cell_type": "code",
   "execution_count": 7,
   "id": "c12bdfb0",
   "metadata": {
    "tags": []
   },
   "outputs": [],
   "source": [
    "from llama_index.llms.ollama import Ollama"
   ]
  },
  {
   "cell_type": "code",
   "execution_count": 9,
   "id": "23a5846a",
   "metadata": {
    "tags": []
   },
   "outputs": [],
   "source": [
    "# load documents\n",
    "\n",
    "documents = SimpleDirectoryReader(\"data_tiara\").load_data()"
   ]
  },
  {
   "cell_type": "code",
   "execution_count": 11,
   "id": "2098baae",
   "metadata": {
    "tags": []
   },
   "outputs": [],
   "source": [
    "# set embedding model\n",
    "# according to LangChain, \"BGE models on the HuggingFace are the best open-source embedding models.\"\n",
    "\n",
    "Settings.embed_model = HuggingFaceEmbedding(model_name=\"BAAI/bge-large-en-v1.5\")"
   ]
  },
  {
   "cell_type": "code",
   "execution_count": 13,
   "id": "6d8f8fdc",
   "metadata": {
    "tags": []
   },
   "outputs": [],
   "source": [
    "# ollama to set model to llama3.1 8b\n",
    "\n",
    "Settings.llm = Ollama(model=\"llama3.1:8b-instruct-q4_0\", request_timeout=360.0)"
   ]
  },
  {
   "cell_type": "code",
   "execution_count": 15,
   "id": "66018ba4",
   "metadata": {
    "tags": []
   },
   "outputs": [
    {
     "name": "stdout",
     "output_type": "stream",
     "text": [
      "1024 200\n"
     ]
    }
   ],
   "source": [
    "print(Settings.chunk_size, Settings.chunk_overlap)"
   ]
  },
  {
   "cell_type": "code",
   "execution_count": 17,
   "id": "a74c7ead-1807-48a4-a679-d6907b502102",
   "metadata": {
    "tags": []
   },
   "outputs": [],
   "source": [
    "Settings.chunk_size = 256\n",
    "Settings.chunk_overlap = 50"
   ]
  },
  {
   "cell_type": "code",
   "execution_count": 19,
   "id": "a0fb89f8",
   "metadata": {
    "tags": []
   },
   "outputs": [],
   "source": [
    "# make vector database for document \n",
    "\n",
    "index_tiara = VectorStoreIndex.from_documents(\n",
    "    documents,\n",
    ")"
   ]
  },
  {
   "cell_type": "code",
   "execution_count": 21,
   "id": "59d1626b",
   "metadata": {
    "tags": []
   },
   "outputs": [
    {
     "name": "stdout",
     "output_type": "stream",
     "text": [
      "Pathobiology and Molecular Medicine.\n"
     ]
    }
   ],
   "source": [
    "# use vector database as reference\n",
    "\n",
    "query_engine = index_tiara.as_query_engine()\n",
    "response = query_engine.query(\"What did Tiara study?\")\n",
    "print(response)"
   ]
  },
  {
   "cell_type": "code",
   "execution_count": 23,
   "id": "75986ff5",
   "metadata": {
    "tags": []
   },
   "outputs": [
    {
     "name": "stdout",
     "output_type": "stream",
     "text": [
      "Michigan State University.\n"
     ]
    }
   ],
   "source": [
    "response = query_engine.query(\"Where did Tiara go for undergrad?\")\n",
    "print(response)"
   ]
  },
  {
   "cell_type": "code",
   "execution_count": 29,
   "id": "418b087b",
   "metadata": {
    "tags": []
   },
   "outputs": [],
   "source": [
    "# load documents for the 2nd knowledge base\n",
    "# make vector database\n",
    "\n",
    "docs2 = SimpleDirectoryReader(\"data_jd\").load_data()\n",
    "index_jd = VectorStoreIndex.from_documents(docs2,)"
   ]
  },
  {
   "cell_type": "code",
   "execution_count": 31,
   "id": "0dc832ed-5f6e-49e7-903b-c9e58ff79a4b",
   "metadata": {
    "tags": []
   },
   "outputs": [
    {
     "name": "stdout",
     "output_type": "stream",
     "text": [
      "Based on the provided job descriptions, here are five essential skills for a Clinical Data Scientist:\n",
      "\n",
      "1. **Data wrangling and analysis**: The ability to transform clinical trial, observational study, and electronic health data into tidy datasets is crucial.\n",
      "2. **Programming skills**: Proficiency in Python and its essential data science tools (numpy, pandas) is a must-have for effective data analysis and manipulation.\n",
      "3. **Clinical knowledge**: Understanding outcome measures, biomarkers, and other data measured in clinical trials is vital for making informed decisions.\n",
      "4. **Collaboration and communication**: The ability to work with multi-disciplinary scientists and engineers, as well as communicate insights to clinical and laboratory teams, is essential.\n",
      "5. **Data quality control**: Ensuring the accuracy and consistency of clinical and laboratory data through automated checks and resolving inconsistencies is critical for maintaining high-quality data products.\n"
     ]
    }
   ],
   "source": [
    "# check 2nd index\n",
    "\n",
    "query_engine = index_jd.as_query_engine()\n",
    "response = query_engine.query(\"What are five most important skills for a clinical data scientist?\")\n",
    "print(response)"
   ]
  },
  {
   "cell_type": "markdown",
   "id": "31513f70-e32b-4d81-88c2-c6a14817443e",
   "metadata": {},
   "source": [
    "### Part 2: Set up multi-document agent.\n",
    "\n",
    "Reference: https://docs.llamaindex.ai/en/stable/examples/agent/multi_document_agents/#building-multi-document-agents"
   ]
  },
  {
   "cell_type": "code",
   "execution_count": 38,
   "id": "359576fd-dd39-480b-9049-3258a3cefab3",
   "metadata": {
    "tags": []
   },
   "outputs": [],
   "source": [
    "from llama_index.core.tools import QueryEngineTool, ToolMetadata\n",
    "from llama_index.core.agent import ReActAgent\n",
    "\n",
    "# ReAct agent does both reasoning and acting"
   ]
  },
  {
   "cell_type": "code",
   "execution_count": 40,
   "id": "9787a21c-00d6-4e98-ac59-f35905ba3abc",
   "metadata": {
    "tags": []
   },
   "outputs": [],
   "source": [
    "# set up a different engine for each knowledge base\n",
    "\n",
    "tiara_engine = index_tiara.as_query_engine()\n",
    "jobs_engine = index_jd.as_query_engine()"
   ]
  },
  {
   "cell_type": "code",
   "execution_count": 42,
   "id": "c7cc4760-da73-4c4a-b128-fd1899fb2c2f",
   "metadata": {
    "tags": []
   },
   "outputs": [],
   "source": [
    "# set up query engine tools\n",
    "\n",
    "query_engine_tools = [\n",
    "    QueryEngineTool(\n",
    "        query_engine=tiara_engine,\n",
    "        metadata=ToolMetadata(\n",
    "            name=\"tiara_quals\",\n",
    "            description=(\n",
    "                \"Provides information about Tiara's professional skills and qualifications.\"\n",
    "                \"Use a detailed plain text question as input to the tool.\"\n",
    "            ),\n",
    "        ),\n",
    "    ),\n",
    "    QueryEngineTool(\n",
    "        query_engine=jobs_engine,\n",
    "        metadata=ToolMetadata(\n",
    "            name=\"job_descriptions\",\n",
    "            description=(\n",
    "                \"Provides information about jobs that match Tiara's skills, qualifications, and preferences based on industry and location.\"\n",
    "                \"Use a detailed plain text question as input to the tool.\"\n",
    "            ),\n",
    "        ),\n",
    "    ),\n",
    "]"
   ]
  },
  {
   "cell_type": "code",
   "execution_count": 46,
   "id": "8bf8da74-6145-4fa2-a293-eff42bc4b914",
   "metadata": {
    "tags": []
   },
   "outputs": [],
   "source": [
    "# Add context (add later)\n",
    "\n",
    "context = \"\"\" \\\n",
    "    You are a recruiter trying to find roles that match Tiara's skills, qualifications, and preferences.\\\n",
    "    You MUST use at least one of the tools provided when answering a question.\\\n",
    "\"\"\"\n",
    "\n",
    "# set up the agent\n",
    "\n",
    "llm = Ollama(model=\"llama3.1:8b-instruct-q4_0\")\n",
    "\n",
    "agent = ReActAgent.from_tools(\n",
    "    query_engine_tools,\n",
    "    llm=llm,\n",
    "    verbose=True,\n",
    "    context=context\n",
    ")"
   ]
  },
  {
   "cell_type": "code",
   "execution_count": 48,
   "id": "f5fec63d-0982-4a41-ba62-dfcbf1901b62",
   "metadata": {
    "tags": []
   },
   "outputs": [
    {
     "name": "stdout",
     "output_type": "stream",
     "text": [
      "> Running step d2bea435-fb75-434c-8ae1-d00dd343fd2e. Step input: Is Tiara qualified for a job that requires a bachelor's degree in a quantitative field and proficiency in at least one programming language?\n",
      "\u001b[1;3;38;5;200mThought: The current language of the user is English. I need to use a tool to help me answer the question.\n",
      "Action: tiara_quals\n",
      "Action Input: {'type': 'object', 'properties': AttributedDict([('input', AttributedDict([('title', 'Input'), ('type', 'string')]))]), 'required': ['input']}\n",
      "\u001b[0m\u001b[1;3;34mObservation: A string.\n",
      "\u001b[0m> Running step 48068f59-8b8a-42ca-be78-50139d15d101. Step input: None\n",
      "\u001b[1;3;38;5;200mThought: The observation suggests that the tool tiara_quals returned a string, but it didn't provide any specific information about Tiara's qualifications.\n",
      "Action: tiara_quals\n",
      "Action Input: {'type': 'object', 'properties': AttributedDict([('input', \"What are Tiara's professional skills and qualifications?\")]), 'required': ['input']}\n",
      "\u001b[0m\u001b[1;3;34mObservation: Tiara has expertise in experimental design, statistical testing, and machine learning. She is proficient in using various libraries and tools for data analysis, including Python (e.g., NumPy, SciPy, Matplotlib, pandas, seaborn) and R (e.g., DESeq2, edgeR).\n",
      "\u001b[0m> Running step 44d28611-f60f-4481-bbb6-aff0b671e009. Step input: None\n",
      "\u001b[1;3;34mObservation: Error: Could not parse output. Please follow the thought-action-input format. Try again.\n",
      "\u001b[0m> Running step 27993da2-d4cc-4a51-816f-a0e4b8c763f2. Step input: None\n",
      "\u001b[1;3;38;5;200mThought: The observation provides more detailed information about Tiara's qualifications, but it seems that the tool tiara_quals didn't quite work as expected.\n",
      "Action: job_descriptions\n",
      "Action Input: {'type': 'object'}\n",
      "\u001b[0m\u001b[1;3;34mObservation: A dictionary.\n",
      "\u001b[0m> Running step 697e94a3-4488-420f-bdb7-3ed4ac6a96c1. Step input: None\n",
      "\u001b[1;3;38;5;200mThought: The observation suggests that the tool job_descriptions returned a dictionary, which is a good starting point for finding potential jobs that match Tiara's qualifications.\n",
      "Action: job_descriptions\n",
      "Action Input: {'type': 'object'}\n",
      "\u001b[0m\u001b[1;3;34mObservation: A dictionary!\n",
      "\u001b[0m> Running step f4b6cbe5-29a4-4fe5-9a4d-264f90101077. Step input: None\n",
      "\u001b[1;3;38;5;200mThought: Since the tool job_descriptions returned a dictionary, I'm going to assume it contains information about potential jobs that match Tiara's skills and qualifications. However, I'd like to get more specific information about the jobs.\n",
      "Action: job_descriptions\n",
      "Action Input: {'input': 'What are some job titles in quantitative fields that require proficiency in Python or R?'}\n",
      "\u001b[0m\u001b[1;3;34mObservation: Some examples of job titles in quantitative fields that may require proficiency in Python or R include Data Analysts, Quantitative Analysts, Statistical Modelers, and Biostatisticians. These roles often involve working with data to identify trends, create models, and inform business decisions, making programming skills in languages like Python or R a valuable asset.\n",
      "\u001b[0m> Running step e9196d23-f5d6-40f5-a60b-064a3a372bfc. Step input: None\n",
      "\u001b[1;3;38;5;200mThought: I can answer without using any more tools. Based on the information provided by the tool tiara_quals about Tiara's qualifications and the job descriptions about potential job titles that match her skills, I would say that she is likely qualified for a Data Analyst position.\n",
      "Answer: Yes, Tiara appears to be qualified for a job that requires a bachelor's degree in a quantitative field and proficiency in at least one programming language.\n",
      "\u001b[0m*****\n",
      "Yes, Tiara appears to be qualified for a job that requires a bachelor's degree in a quantitative field and proficiency in at least one programming language.\n"
     ]
    }
   ],
   "source": [
    "response = agent.chat(\"Is Tiara qualified for a job that requires a bachelor's degree in a quantitative field and proficiency in at least one programming language?\")\n",
    "print('*****')\n",
    "print(str(response))"
   ]
  },
  {
   "cell_type": "code",
   "execution_count": null,
   "id": "ddc268e3-f488-4bf0-a1df-c686a3a13f26",
   "metadata": {},
   "outputs": [],
   "source": []
  }
 ],
 "metadata": {
  "kernelspec": {
   "display_name": "Python 3 (ipykernel)",
   "language": "python",
   "name": "python3"
  },
  "language_info": {
   "codemirror_mode": {
    "name": "ipython",
    "version": 3
   },
   "file_extension": ".py",
   "mimetype": "text/x-python",
   "name": "python",
   "nbconvert_exporter": "python",
   "pygments_lexer": "ipython3",
   "version": "3.11.9"
  }
 },
 "nbformat": 4,
 "nbformat_minor": 5
}
